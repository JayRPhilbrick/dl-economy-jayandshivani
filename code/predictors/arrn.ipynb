{
 "cells": [
  {
   "cell_type": "code",
   "execution_count": 704,
   "metadata": {},
   "outputs": [],
   "source": [
    "import numpy as np\n",
    "import pandas as pd\n",
    "import seaborn as sns\n",
    "import tensorflow as tf\n",
    "import matplotlib as mpl\n",
    "import matplotlib.pyplot as plt\n",
    "\n",
    "from keras.models import Sequential\n",
    "from keras.layers import LSTM, Dense, Activation\n",
    "from tensorflow.keras.optimizers import Adam"
   ]
  },
  {
   "cell_type": "code",
   "execution_count": 705,
   "metadata": {},
   "outputs": [
    {
     "name": "stdout",
     "output_type": "stream",
     "text": [
      "615 145\n"
     ]
    }
   ],
   "source": [
    "inputs_train = pd.read_csv(\"../../data/cleaned/unemp_inputs_train_det.csv\")\n",
    "inputs_train = inputs_train.drop(columns=[\"id\"], axis=1)\n",
    "\n",
    "samples_train, features = inputs_train.shape \n",
    "\n",
    "labels_train = pd.read_csv(\"../../data/cleaned/unemp_labels_train_det.csv\")\n",
    "labels_train = labels_train.drop(columns=[\"id\"], axis=1)\n",
    "\n",
    "inputs_test = pd.read_csv(\"../../data/cleaned/unemp_inputs_test_det.csv\")\n",
    "inputs_test = inputs_test.drop(columns=[\"id\"], axis=1)\n",
    "\n",
    "samples_test, features = inputs_test.shape \n",
    "\n",
    "labels_test = pd.read_csv(\"../../data/cleaned/unemp_labels_test_det.csv\")\n",
    "labels_test = labels_test.drop(columns=[\"id\"], axis=1)\n",
    "\n",
    "print(samples_train, samples_test)"
   ]
  },
  {
   "cell_type": "code",
   "execution_count": 706,
   "metadata": {},
   "outputs": [],
   "source": [
    "# generates timestepped data for autorregression\n",
    "\n",
    "def generate_timesteps(data, ind=1, out=1):\n",
    "    cols, col_names = [], []\n",
    "    \n",
    "    if type(data) is list:\n",
    "        vars = 1 \n",
    "    else:\n",
    "        vars = data.shape[1]\n",
    "    df = pd.DataFrame(data)\n",
    "    \n",
    "    # input sequence of t-n to t-1\n",
    "    for i in range(ind, 0, -1):\n",
    "        cols.append(df.shift(i))\n",
    "        col_names += [('var%d(t-%d)' % (j + 1, i)) for j in range(vars)]\n",
    "\n",
    "    # forecast sequence of t to t+n\n",
    "    for i in range(0, out):\n",
    "        cols.append(df.shift(-i))\n",
    "        if i == 0:\n",
    "            col_names += [('var%d(t)' % (j + 1)) for j in range(vars)]\n",
    "        else:\n",
    "            col_names += [('var%d(t+%d)' % (j + 1, i)) for j in range(vars)]\n",
    "\n",
    "    timestepped = pd.concat(cols, axis=1)\n",
    "    timestepped.columns = col_names\n",
    "    timestepped.dropna(inplace=True)\n",
    "    return timestepped"
   ]
  },
  {
   "cell_type": "code",
   "execution_count": 707,
   "metadata": {},
   "outputs": [
    {
     "name": "stdout",
     "output_type": "stream",
     "text": [
      "(1, 74415)\n",
      "(1, 17545)\n"
     ]
    }
   ],
   "source": [
    "# process data for autoregression\n",
    "\n",
    "window_train = 1\n",
    "window_test = 1\n",
    "\n",
    "train_in, test_in = samples_train-window_train, samples_test-window_test\n",
    "\n",
    "inputs_train = generate_timesteps(inputs_train.values, train_in, window_train)\n",
    "print(inputs_train.shape)\n",
    "\n",
    "inputs_test = generate_timesteps(inputs_test.values, test_in, window_test)\n",
    "print(inputs_test.shape)\n",
    "\n",
    "# roll by window size\n",
    "\n",
    "inputs_train = inputs_train.rolling(window=window_train).mean().dropna()\n",
    "inputs_test = inputs_test.rolling(window=window_test).mean().dropna()"
   ]
  },
  {
   "cell_type": "code",
   "execution_count": 708,
   "metadata": {},
   "outputs": [
    {
     "name": "stdout",
     "output_type": "stream",
     "text": [
      "inputs_train: (615, 1, 121) labels_train: (615, 1) \n",
      "inputs_test: (145, 1, 121) labels_test: (145, 1)\n"
     ]
    }
   ],
   "source": [
    "# 3d shapes for feeding to AR-LSTM\n",
    "inputs_train_shape = (samples_train, samples_train-train_in, features)\n",
    "inputs_test_shape = (samples_test, samples_test-test_in, features)\n",
    "\n",
    "inputs_train = inputs_train.values.reshape(inputs_train_shape)\n",
    "inputs_test = inputs_test.values.reshape(inputs_test_shape)\n",
    "\n",
    "print('inputs_train:', inputs_train.shape, 'labels_train:', labels_train.shape, \n",
    "      '\\ninputs_test:', inputs_test.shape, 'labels_test:', labels_test.shape)"
   ]
  },
  {
   "cell_type": "code",
   "execution_count": 709,
   "metadata": {},
   "outputs": [
    {
     "name": "stdout",
     "output_type": "stream",
     "text": [
      "Epoch 1/5\n",
      "13/13 - 2s - loss: 0.4067 - mse: 0.1850 - 2s/epoch - 116ms/step\n",
      "Epoch 2/5\n",
      "13/13 - 0s - loss: 0.2556 - mse: 0.0864 - 29ms/epoch - 2ms/step\n",
      "Epoch 3/5\n",
      "13/13 - 0s - loss: 0.1361 - mse: 0.0319 - 30ms/epoch - 2ms/step\n",
      "Epoch 4/5\n",
      "13/13 - 0s - loss: 0.1018 - mse: 0.0180 - 29ms/epoch - 2ms/step\n",
      "Epoch 5/5\n",
      "13/13 - 0s - loss: 0.1033 - mse: 0.0178 - 26ms/epoch - 2ms/step\n"
     ]
    }
   ],
   "source": [
    "def fit(n_neurons=50, batch_size=50, epochs=5, optimizer='adam', verbosity=2):\n",
    "    ARNN = Sequential(layers=[LSTM(n_neurons, input_shape=(inputs_train.shape[1], inputs_train.shape[2])), \n",
    "    Dense(1)])\n",
    "    ARNN.compile(loss='mae', optimizer=optimizer, metrics=['mse'])\n",
    "\n",
    "    history = ARNN.fit(inputs_train, labels_train, epochs=epochs, batch_size=batch_size, verbose=verbosity)\n",
    "    \n",
    "    return (ARNN, history)\n",
    "\n",
    "ARNN, history = fit()"
   ]
  },
  {
   "cell_type": "code",
   "execution_count": 710,
   "metadata": {},
   "outputs": [
    {
     "name": "stderr",
     "output_type": "stream",
     "text": [
      "No artists with labels found to put in legend.  Note that artists whose label start with an underscore are ignored when legend() is called with no argument.\n"
     ]
    },
    {
     "name": "stdout",
     "output_type": "stream",
     "text": [
      "test loss: 0.15936149656772614\n",
      "test MSE: 0.03854857757687569\n"
     ]
    },
    {
     "data": {
      "image/png": "[encoded data removed]",
      "text/plain": [
       "<Figure size 1500x500 with 1 Axes>"
      ]
     },
     "metadata": {},
     "output_type": "display_data"
    }
   ],
   "source": [
    "loss, mse = ARNN.evaluate(inputs_test, labels_test, verbose=0)\n",
    "print('test loss:', loss)\n",
    "print('test MSE:', mse)\n",
    "\n",
    "# plot history\n",
    "plt.figure(figsize=(15,5))\n",
    "plt.plot(history.history['loss'])\n",
    "plt.legend()\n",
    "plt.show()"
   ]
  },
  {
   "cell_type": "code",
   "execution_count": 711,
   "metadata": {},
   "outputs": [
    {
     "ename": "NameError",
     "evalue": "name 'reframed_test' is not defined",
     "output_type": "error",
     "traceback": [
      "\u001b[0;31m---------------------------------------------------------------------------\u001b[0m",
      "\u001b[0;31mNameError\u001b[0m                                 Traceback (most recent call last)",
      "\u001b[1;32m/Users/shivanimendiratta/Desktop/DL/dl-economy-jayandshivani/code/predictors/arrn.ipynb Cell 8\u001b[0m in \u001b[0;36m<cell line: 7>\u001b[0;34m()\u001b[0m\n\u001b[1;32m      <a href='vscode-notebook-cell:/Users/shivanimendiratta/Desktop/DL/dl-economy-jayandshivani/code/predictors/arrn.ipynb#W6sZmlsZQ%3D%3D?line=3'>4</a>\u001b[0m \u001b[39mdef\u001b[39;00m \u001b[39minverting\u001b[39m(series, ls\u001b[39m=\u001b[39m\u001b[39m-\u001b[39m\u001b[39m1\u001b[39m):\n\u001b[1;32m      <a href='vscode-notebook-cell:/Users/shivanimendiratta/Desktop/DL/dl-economy-jayandshivani/code/predictors/arrn.ipynb#W6sZmlsZQ%3D%3D?line=4'>5</a>\u001b[0m     \u001b[39mreturn\u001b[39;00m scaler\u001b[39m.\u001b[39minverse_transform(np\u001b[39m.\u001b[39mconcatenate((reframed_test\u001b[39m.\u001b[39mvalues[:, :ls], series), axis\u001b[39m=\u001b[39m\u001b[39m1\u001b[39m))[:, \u001b[39m-\u001b[39m\u001b[39m1\u001b[39m]\n\u001b[0;32m----> <a href='vscode-notebook-cell:/Users/shivanimendiratta/Desktop/DL/dl-economy-jayandshivani/code/predictors/arrn.ipynb#W6sZmlsZQ%3D%3D?line=6'>7</a>\u001b[0m y_pred_lstm_E \u001b[39m=\u001b[39m inverting(y_pred_out)\n\u001b[1;32m      <a href='vscode-notebook-cell:/Users/shivanimendiratta/Desktop/DL/dl-economy-jayandshivani/code/predictors/arrn.ipynb#W6sZmlsZQ%3D%3D?line=7'>8</a>\u001b[0m y_inv \u001b[39m=\u001b[39m inverting(y_test\u001b[39m.\u001b[39mvalues\u001b[39m.\u001b[39mreshape(y_test\u001b[39m.\u001b[39mshape[\u001b[39m0\u001b[39m], \u001b[39m1\u001b[39m))\n\u001b[1;32m     <a href='vscode-notebook-cell:/Users/shivanimendiratta/Desktop/DL/dl-economy-jayandshivani/code/predictors/arrn.ipynb#W6sZmlsZQ%3D%3D?line=9'>10</a>\u001b[0m \u001b[39m#======================================================= metrics\u001b[39;00m\n\u001b[1;32m     <a href='vscode-notebook-cell:/Users/shivanimendiratta/Desktop/DL/dl-economy-jayandshivani/code/predictors/arrn.ipynb#W6sZmlsZQ%3D%3D?line=10'>11</a>\u001b[0m \u001b[39m# calculate RMSE\u001b[39;00m\n",
      "\u001b[1;32m/Users/shivanimendiratta/Desktop/DL/dl-economy-jayandshivani/code/predictors/arrn.ipynb Cell 8\u001b[0m in \u001b[0;36minverting\u001b[0;34m(series, ls)\u001b[0m\n\u001b[1;32m      <a href='vscode-notebook-cell:/Users/shivanimendiratta/Desktop/DL/dl-economy-jayandshivani/code/predictors/arrn.ipynb#W6sZmlsZQ%3D%3D?line=3'>4</a>\u001b[0m \u001b[39mdef\u001b[39;00m \u001b[39minverting\u001b[39m(series, ls\u001b[39m=\u001b[39m\u001b[39m-\u001b[39m\u001b[39m1\u001b[39m):\n\u001b[0;32m----> <a href='vscode-notebook-cell:/Users/shivanimendiratta/Desktop/DL/dl-economy-jayandshivani/code/predictors/arrn.ipynb#W6sZmlsZQ%3D%3D?line=4'>5</a>\u001b[0m     \u001b[39mreturn\u001b[39;00m scaler\u001b[39m.\u001b[39minverse_transform(np\u001b[39m.\u001b[39mconcatenate((reframed_test\u001b[39m.\u001b[39mvalues[:, :ls], series), axis\u001b[39m=\u001b[39m\u001b[39m1\u001b[39m))[:, \u001b[39m-\u001b[39m\u001b[39m1\u001b[39m]\n",
      "\u001b[0;31mNameError\u001b[0m: name 'reframed_test' is not defined"
     ]
    }
   ],
   "source": [
    "y_pred_out = model_lstm.predict(inputs_train)\n",
    "\n",
    "#=======================================================  inverting scaling\n",
    "def inverting(series, ls=-1):\n",
    "    return scaler.inverse_transform(np.concatenate((reframed_test.values[:, :ls], series), axis=1))[:, -1]\n",
    "\n",
    "y_pred_lstm_E = inverting(y_pred_out)\n",
    "y_inv = inverting(y_test.values.reshape(y_test.shape[0], 1))\n",
    "\n",
    "#======================================================= metrics\n",
    "# calculate RMSE\n",
    "rmse_lstm = tf.math.sqrt(MSE(y_inv, y_pred_lstm_E))\n",
    "print('Test RMSE: %.3f' % rmse_lstm)\n",
    "\n",
    "# calculate model accuracy\n",
    "accuracy_lstm = r2_score(y_inv, y_pred_lstm_E)\n",
    "print('Model accuracy: {:.3f}'.format(accuracy_lstm))\n",
    "\n",
    "# calculate mean directional accuracy\n",
    "def mda(actual: np.ndarray, predicted: np.ndarray):\n",
    "    \"\"\" Mean Directional Accuracy \"\"\"\n",
    "    return np.mean((np.sign(actual[1:] - actual[:-1]) \n",
    "                    == np.sign(predicted[1:] - predicted[:-1])).astype(int))\n",
    "mda_lstm = mda(y_inv, y_pred_lstm_E)\n",
    "\n",
    "print('Model Mean Directional accuracy: {:.3f}'.format(mda_lstm))"
   ]
  },
  {
   "cell_type": "code",
   "execution_count": null,
   "metadata": {},
   "outputs": [],
   "source": [
    "hours_df = reframed_test.index\n",
    "plt.figure(figsize=(15, 5))\n",
    "plt.plot(hours_df, y_inv, label='Consumption')\n",
    "plt.plot(hours_df, y_pred_lstm_E, label='Prediction (auto-regressive LSTM)')\n",
    "plt.plot(hours_df, y_pred_model_1, label='Prediction (linear regressor)', linewidth=0.5)\n",
    "plt.ylabel('Solar energy consumption')\n",
    "plt.xlabel('Date')\n",
    "plt.title('Multi-feature models')\n",
    "plt.savefig('roll_24_multi.png')\n",
    "plt.legend()\n",
    "plt.show()"
   ]
  },
  {
   "cell_type": "code",
   "execution_count": null,
   "metadata": {},
   "outputs": [],
   "source": [
    "def lstm_net(X_train_in, y_train, X_test_in, y_test):\n",
    "    \n",
    "    model, history = fit_network(verbosity=0)\n",
    "    y_pred_out = model.predict(X_test_in)\n",
    "\n",
    "    # invert scaling for forecast and actual\n",
    "    y_pred = inverting(y_pred_out)\n",
    "    y_inv = inverting(y_test.values.reshape(y_test.shape[0], 1))\n",
    "\n",
    "    # metrics\n",
    "    rmse = sqrt(MSE(y_inv, y_pred))\n",
    "    LSTM_accuracy = r2_score(y_inv, y_pred)\n",
    "    mean_da = mda(y_inv, y_pred)\n",
    "    \n",
    "    return (rmse, y_inv, y_pred, LSTM_accuracy, mean_da)\n",
    "\n",
    "import time\n",
    "from tqdm import tqdm\n",
    "    \n",
    "rmse_l, y_inv_l, y_pred_l, acc_l, mda_l = [], [], [], [], []\n",
    "for i in tqdm(range(11)):  #31\n",
    "    tqdm._instances.clear()\n",
    "    \n",
    "    rmse, y_inv, y_pred, acc, mdacc = lstm_net(X_train_in, y_train, X_test_in, y_test)\n",
    "    \n",
    "    rmse_l.append(rmse)\n",
    "    y_inv_l.append(y_inv)\n",
    "    y_pred_l.append(y_pred)\n",
    "    acc_l.append(acc)\n",
    "    mda_l.append(mdacc)\n",
    "    \n",
    "# getting the index of the median rmse value and extract the predictions of this value\n",
    "rsme_df = pd.DataFrame(rmse_l)\n",
    "rsme_med = pd.DataFrame(rmse_l).median().values[0]\n",
    "ind_med = rsme_df[rsme_df[0]==rsme_med].index.tolist()[0]\n",
    "y_pred_lstm = y_pred_l[ind_med]\n",
    "\n",
    "fig, ax = plt.subplots(1, 3, figsize=(15,5))\n",
    "pd.DataFrame(rmse_l, columns=['RMSE']).boxplot(figsize=(7,6), ax=ax[0])\n",
    "pd.DataFrame(acc_l, columns=['Accuracy']).boxplot(figsize=(7,6), ax=ax[1])\n",
    "pd.DataFrame(mda_l, columns=['MDAccuracy']).boxplot(figsize=(7,6), ax=ax[2])\n",
    "# plt.savefig('RMSE.pdf')\n",
    "plt.show()"
   ]
  }
 ],
 "metadata": {
  "kernelspec": {
   "display_name": "Python 3.8.13 ('cs1470')",
   "language": "python",
   "name": "python3"
  },
  "language_info": {
   "codemirror_mode": {
    "name": "ipython",
    "version": 3
   },
   "file_extension": ".py",
   "mimetype": "text/x-python",
   "name": "python",
   "nbconvert_exporter": "python",
   "pygments_lexer": "ipython3",
   "version": "3.8.13"
  },
  "orig_nbformat": 4,
  "vscode": {
   "interpreter": {
    "hash": "277dddc688ad38a20dac2378e692b9a0b95c4aec8a23337be6d866c3e50c1c0c"
   }
  }
 },
 "nbformat": 4,
 "nbformat_minor": 2
}
