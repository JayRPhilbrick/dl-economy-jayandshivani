{
 "cells": [
  {
   "cell_type": "code",
   "execution_count": 202,
   "metadata": {},
   "outputs": [],
   "source": [
    "import numpy as np\n",
    "import pandas as pd\n",
    "import seaborn as sns\n",
    "import tensorflow as tf\n",
    "import matplotlib as mpl\n",
    "import matplotlib.pyplot as plt\n",
    "\n",
    "from keras.models import Sequential\n",
    "from keras.layers import LSTM, Dense, Activation\n",
    "from tensorflow.keras.optimizers import Adam\n",
    "from sklearn.preprocessing import MinMaxScaler\n",
    "from sklearn.metrics import mean_squared_error as MSE, r2_score\n",
    "\n"
   ]
  },
  {
   "cell_type": "code",
   "execution_count": 203,
   "metadata": {},
   "outputs": [
    {
     "name": "stdout",
     "output_type": "stream",
     "text": [
      "615 145\n"
     ]
    }
   ],
   "source": [
    "inputs_train = pd.read_csv(\"../../data/cleaned/unemp_inputs_train_det.csv\")\n",
    "# inputs_train = inputs_train.drop(columns=[\"id\"], axis=1)\n",
    "\n",
    "samples_train, features = inputs_train.shape \n",
    "\n",
    "labels_train = pd.read_csv(\"../../data/cleaned/unemp_labels_train_det.csv\")\n",
    "# labels_train = labels_train.drop(columns=[\"id\"], axis=1)\n",
    "\n",
    "inputs_test = pd.read_csv(\"../../data/cleaned/unemp_inputs_test_det.csv\")\n",
    "# inputs_test = inputs_test.drop(columns=[\"id\"], axis=1)\n",
    "\n",
    "samples_test, features = inputs_test.shape \n",
    "\n",
    "labels_test = pd.read_csv(\"../../data/cleaned/unemp_labels_test_det.csv\")\n",
    "# labels_test = labels_test.drop(columns=[\"id\"], axis=1)\n",
    "\n",
    "print(samples_train, samples_test)"
   ]
  },
  {
   "cell_type": "code",
   "execution_count": 204,
   "metadata": {},
   "outputs": [],
   "source": [
    "# generates timestepped data for autorregression\n",
    "\n",
    "def generate_timesteps(data, ind=1, out=1):\n",
    "    cols, col_names = [], []\n",
    "    \n",
    "    if type(data) is list:\n",
    "        vars = 1 \n",
    "    else:\n",
    "        vars = data.shape[1]\n",
    "    df = pd.DataFrame(data)\n",
    "    \n",
    "    # input sequence of t-n to t-1\n",
    "    for i in range(ind, 0, -1):\n",
    "        cols.append(df.shift(i))\n",
    "        col_names += [('var%d(t-%d)' % (j + 1, i)) for j in range(vars)]\n",
    "\n",
    "    # forecast sequence of t to t+n\n",
    "    for i in range(0, out):\n",
    "        cols.append(df.shift(-i))\n",
    "        if i == 0:\n",
    "            col_names += [('var%d(t)' % (j + 1)) for j in range(vars)]\n",
    "        else:\n",
    "            col_names += [('var%d(t+%d)' % (j + 1, i)) for j in range(vars)]\n",
    "\n",
    "    timestepped = pd.concat(cols, axis=1)\n",
    "    timestepped.columns = col_names\n",
    "    timestepped.dropna(inplace=True)\n",
    "    return timestepped"
   ]
  },
  {
   "cell_type": "code",
   "execution_count": 205,
   "metadata": {},
   "outputs": [
    {
     "name": "stdout",
     "output_type": "stream",
     "text": [
      "(1, 74415)\n",
      "(1, 17545)\n"
     ]
    }
   ],
   "source": [
    "# process data for autoregression\n",
    "\n",
    "window_train = 1\n",
    "window_test = 1\n",
    "\n",
    "train_in, test_in = samples_train-window_train, samples_test-window_test\n",
    "\n",
    "inputs_train = generate_timesteps(inputs_train.values, train_in, window_train)\n",
    "print(inputs_train.shape)\n",
    "\n",
    "inputs_test = generate_timesteps(inputs_test.values, test_in, window_test)\n",
    "print(inputs_test.shape)\n",
    "\n",
    "# roll by window size\n",
    "\n",
    "inputs_train = inputs_train.rolling(window=window_train).mean().dropna()\n",
    "inputs_test = inputs_test.rolling(window=window_test).mean().dropna()"
   ]
  },
  {
   "cell_type": "code",
   "execution_count": 206,
   "metadata": {},
   "outputs": [
    {
     "name": "stdout",
     "output_type": "stream",
     "text": [
      "inputs_train: (615, 1, 121) labels_train: (615, 1) \n",
      "inputs_test: (145, 1, 121) labels_test: (145, 1)\n"
     ]
    }
   ],
   "source": [
    "# 3d shapes for feeding to AR-LSTM\n",
    "inputs_train_shape = (samples_train, samples_train-train_in, features)\n",
    "inputs_test_shape = (samples_test, samples_test-test_in, features)\n",
    "\n",
    "inputs_train = inputs_train.values.reshape(inputs_train_shape)\n",
    "inputs_test = inputs_test.values.reshape(inputs_test_shape)\n",
    "\n",
    "print('inputs_train:', inputs_train.shape, 'labels_train:', labels_train.shape, \n",
    "      '\\ninputs_test:', inputs_test.shape, 'labels_test:', labels_test.shape)"
   ]
  },
  {
   "cell_type": "code",
   "execution_count": 207,
   "metadata": {},
   "outputs": [
    {
     "name": "stdout",
     "output_type": "stream",
     "text": [
      "Epoch 1/12\n",
      "13/13 - 1s - loss: 0.4947 - mse: 0.2634 - 1s/epoch - 114ms/step\n",
      "Epoch 2/12\n",
      "13/13 - 0s - loss: 0.3926 - mse: 0.1725 - 31ms/epoch - 2ms/step\n",
      "Epoch 3/12\n",
      "13/13 - 0s - loss: 0.2905 - mse: 0.1033 - 23ms/epoch - 2ms/step\n",
      "Epoch 4/12\n",
      "13/13 - 0s - loss: 0.1923 - mse: 0.0549 - 23ms/epoch - 2ms/step\n",
      "Epoch 5/12\n",
      "13/13 - 0s - loss: 0.1256 - mse: 0.0279 - 21ms/epoch - 2ms/step\n",
      "Epoch 6/12\n",
      "13/13 - 0s - loss: 0.1017 - mse: 0.0189 - 22ms/epoch - 2ms/step\n",
      "Epoch 7/12\n",
      "13/13 - 0s - loss: 0.1017 - mse: 0.0178 - 22ms/epoch - 2ms/step\n",
      "Epoch 8/12\n",
      "13/13 - 0s - loss: 0.1012 - mse: 0.0179 - 23ms/epoch - 2ms/step\n",
      "Epoch 9/12\n",
      "13/13 - 0s - loss: 0.1006 - mse: 0.0183 - 28ms/epoch - 2ms/step\n",
      "Epoch 10/12\n",
      "13/13 - 0s - loss: 0.1007 - mse: 0.0185 - 31ms/epoch - 2ms/step\n",
      "Epoch 11/12\n",
      "13/13 - 0s - loss: 0.1007 - mse: 0.0183 - 30ms/epoch - 2ms/step\n",
      "Epoch 12/12\n",
      "13/13 - 0s - loss: 0.1007 - mse: 0.0182 - 25ms/epoch - 2ms/step\n"
     ]
    }
   ],
   "source": [
    "def fit(n_neurons=50, batch_size=50, epochs=12, optimizer='adam', verbosity=2):\n",
    "    ARNN = Sequential(layers=[LSTM(n_neurons, input_shape=(inputs_train.shape[1], inputs_train.shape[2])), \n",
    "    Dense(1)])\n",
    "    ARNN.compile(loss='mae', optimizer=optimizer, metrics=['mse'])\n",
    "\n",
    "    history = ARNN.fit(inputs_train, labels_train, epochs=epochs, batch_size=batch_size, verbose=verbosity)\n",
    "    \n",
    "    return (ARNN, history)\n",
    "\n",
    "ARNN, history = fit()"
   ]
  },
  {
   "cell_type": "code",
   "execution_count": 208,
   "metadata": {},
   "outputs": [],
   "source": [
    "loss, mse = ARNN.evaluate(inputs_test, labels_test, verbose=0)\n",
    "print('test loss:', loss)\n",
    "print('test MSE:', mse)\n",
    "\n",
    "# plot history\n",
    "plt.figure(figsize=(15,5))\n",
    "plt.plot(history.history['loss'])\n",
    "plt.legend()\n",
    "plt.savefig(fname=\"../../figures/training_loss.jpg\")\n",
    "plt.show()"
   ]
  },
  {
   "cell_type": "code",
   "execution_count": null,
   "metadata": {},
   "outputs": [],
   "source": [
    "# Visualization etc\n",
    "y_pred_out = ARNN.predict(inputs_train)\n",
    "\n",
    "mins = pd.read_csv(\"../../data/cleaned/mins.csv\")\n",
    "maxes = pd.read_csv(\"../../data/cleaned/maxes.csv\")\n",
    "min_unemployment_rate = mins.unemployment_rate[0]\n",
    "max_unemployment_rate = maxes.unemployment_rate[0]\n",
    "\n",
    "#=======================================================  inverting scaling\n",
    "def inverting_transform_unemployment(series, ls=-1):\n",
    "    series = series * (max_unemployment_rate - min_unemployment_rate) + min_unemployment_rate\n",
    "    return series\n",
    "\n",
    "y_pred_lstm_E = inverting_transform_unemployment(y_pred_out)\n",
    "y_inv = inverting_transform_unemployment(labels_test.values.reshape(labels_test.shape[0], 1))"
   ]
  },
  {
   "cell_type": "code",
   "execution_count": null,
   "metadata": {},
   "outputs": [],
   "source": [
    "months_df = pd.read_csv(\"../../data/cleaned/unemp_inputs_test_det.csv\").date"
   ]
  },
  {
   "cell_type": "code",
   "execution_count": null,
   "metadata": {},
   "outputs": [
    {
     "data": {
      "image/png": "[encoded data removed]",
      "text/plain": [
       "<Figure size 1080x360 with 1 Axes>"
      ]
     },
     "metadata": {
      "needs_background": "light"
     },
     "output_type": "display_data"
    }
   ],
   "source": [
    "\n",
    "plt.figure(figsize=(15, 5))\n",
    "plt.plot(months_df, y_inv, label='Actual: Unemployment Rate')\n",
    "plt.plot(months_df, y_pred_lstm_E[:145], label='Prediction: ARNN')\n",
    "plt.ylabel('Unemployment Rate')\n",
    "plt.xlabel('Date (Ordinal)')\n",
    "plt.title('Unemployment Rate Model Prediction vs. Actual')\n",
    "plt.savefig('../../figures/lstm_prediction_vs_actual.jpg')\n",
    "plt.legend()\n",
    "plt.show()"
   ]
  },
  {
   "cell_type": "code",
   "execution_count": null,
   "metadata": {},
   "outputs": [
    {
     "name": "stderr",
     "output_type": "stream",
     "text": [
      "  0%|          | 0/11 [00:00<?, ?it/s]\n"
     ]
    },
    {
     "ename": "NameError",
     "evalue": "name 'X_train_in' is not defined",
     "output_type": "error",
     "traceback": [
      "\u001b[1;31m---------------------------------------------------------------------------\u001b[0m",
      "\u001b[1;31mNameError\u001b[0m                                 Traceback (most recent call last)",
      "\u001b[1;32mc:\\Users\\philb\\Documents\\dl-economy-jayandshivani\\code\\predictors\\arrn.ipynb Cell 11\u001b[0m in \u001b[0;36m<cell line: 21>\u001b[1;34m()\u001b[0m\n\u001b[0;32m     <a href='vscode-notebook-cell:/c%3A/Users/philb/Documents/dl-economy-jayandshivani/code/predictors/arrn.ipynb#X12sZmlsZQ%3D%3D?line=20'>21</a>\u001b[0m \u001b[39mfor\u001b[39;00m i \u001b[39min\u001b[39;00m tqdm(\u001b[39mrange\u001b[39m(\u001b[39m11\u001b[39m)):  \u001b[39m#31\u001b[39;00m\n\u001b[0;32m     <a href='vscode-notebook-cell:/c%3A/Users/philb/Documents/dl-economy-jayandshivani/code/predictors/arrn.ipynb#X12sZmlsZQ%3D%3D?line=21'>22</a>\u001b[0m     tqdm\u001b[39m.\u001b[39m_instances\u001b[39m.\u001b[39mclear()\n\u001b[1;32m---> <a href='vscode-notebook-cell:/c%3A/Users/philb/Documents/dl-economy-jayandshivani/code/predictors/arrn.ipynb#X12sZmlsZQ%3D%3D?line=23'>24</a>\u001b[0m     rmse, y_inv, y_pred, acc, mdacc \u001b[39m=\u001b[39m lstm_net(X_train_in, y_train, X_test_in, y_test)\n\u001b[0;32m     <a href='vscode-notebook-cell:/c%3A/Users/philb/Documents/dl-economy-jayandshivani/code/predictors/arrn.ipynb#X12sZmlsZQ%3D%3D?line=25'>26</a>\u001b[0m     rmse_l\u001b[39m.\u001b[39mappend(rmse)\n\u001b[0;32m     <a href='vscode-notebook-cell:/c%3A/Users/philb/Documents/dl-economy-jayandshivani/code/predictors/arrn.ipynb#X12sZmlsZQ%3D%3D?line=26'>27</a>\u001b[0m     y_inv_l\u001b[39m.\u001b[39mappend(y_inv)\n",
      "\u001b[1;31mNameError\u001b[0m: name 'X_train_in' is not defined"
     ]
    }
   ],
   "source": [
    "# def lstm_net(X_train_in, y_train, X_test_in, y_test):\n",
    "    \n",
    "#     model, history = fit_network(verbosity=0)\n",
    "#     y_pred_out = model.predict(X_test_in)\n",
    "\n",
    "#     # invert scaling for forecast and actual\n",
    "#     y_pred = inverting(y_pred_out)\n",
    "#     y_inv = inverting(y_test.values.reshape(y_test.shape[0], 1))\n",
    "\n",
    "#     # metrics\n",
    "#     rmse = sqrt(MSE(y_inv, y_pred))\n",
    "#     LSTM_accuracy = r2_score(y_inv, y_pred)\n",
    "#     mean_da = mda(y_inv, y_pred)\n",
    "    \n",
    "#     return (rmse, y_inv, y_pred, LSTM_accuracy, mean_da)\n",
    "\n",
    "# import time\n",
    "# from tqdm import tqdm\n",
    "    \n",
    "# rmse_l, y_inv_l, y_pred_l, acc_l, mda_l = [], [], [], [], []\n",
    "# for i in tqdm(range(11)):  #31\n",
    "#     tqdm._instances.clear()\n",
    "    \n",
    "#     rmse, y_inv, y_pred, acc, mdacc = lstm_net(X_train_in, y_train, X_test_in, y_test)\n",
    "    \n",
    "#     rmse_l.append(rmse)\n",
    "#     y_inv_l.append(y_inv)\n",
    "#     y_pred_l.append(y_pred)\n",
    "#     acc_l.append(acc)\n",
    "#     mda_l.append(mdacc)\n",
    "    \n",
    "# # getting the index of the median rmse value and extract the predictions of this value\n",
    "# rsme_df = pd.DataFrame(rmse_l)\n",
    "# rsme_med = pd.DataFrame(rmse_l).median().values[0]\n",
    "# ind_med = rsme_df[rsme_df[0]==rsme_med].index.tolist()[0]\n",
    "# y_pred_lstm = y_pred_l[ind_med]\n",
    "\n",
    "# fig, ax = plt.subplots(1, 3, figsize=(15,5))\n",
    "# pd.DataFrame(rmse_l, columns=['RMSE']).boxplot(figsize=(7,6), ax=ax[0])\n",
    "# pd.DataFrame(acc_l, columns=['Accuracy']).boxplot(figsize=(7,6), ax=ax[1])\n",
    "# pd.DataFrame(mda_l, columns=['MDAccuracy']).boxplot(figsize=(7,6), ax=ax[2])\n",
    "# # plt.savefig('RMSE.pdf')\n",
    "# plt.show()"
   ]
  }
 ],
 "metadata": {
  "kernelspec": {
   "display_name": "Python 3",
   "language": "python",
   "name": "python3"
  },
  "language_info": {
   "codemirror_mode": {
    "name": "ipython",
    "version": 3
   },
   "file_extension": ".py",
   "mimetype": "text/x-python",
   "name": "python",
   "nbconvert_exporter": "python",
   "pygments_lexer": "ipython3",
   "version": "3.10.5"
  },
  "orig_nbformat": 4,
  "vscode": {
   "interpreter": {
    "hash": "ed92cf54af9e1f213389916f17eac5cc16508d52289234c2f0e528822ea28336"
   }
  }
 },
 "nbformat": 4,
 "nbformat_minor": 2
}
