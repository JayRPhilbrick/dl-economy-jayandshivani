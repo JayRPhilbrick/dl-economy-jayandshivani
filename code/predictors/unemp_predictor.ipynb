{
 "cells": [
  {
   "cell_type": "code",
   "execution_count": 22,
   "metadata": {},
   "outputs": [],
   "source": [
    "import pandas as pd\n",
    "import numpy as np\n",
    "import sklearn\n",
    "from sklearn import metrics"
   ]
  },
  {
   "cell_type": "code",
   "execution_count": 23,
   "metadata": {},
   "outputs": [],
   "source": [
    "inputs_train = pd.read_csv(\"../../data/cleaned/unemp_inputs_train.csv\")\n",
    "\n",
    "labels_train = pd.read_csv(\"../../data/cleaned/unemp_labels_train.csv\")\n",
    "\n",
    "inputs_test = pd.read_csv(\"../../data/cleaned/unemp_inputs_test.csv\")\n",
    "\n",
    "labels_test = pd.read_csv(\"../../data/cleaned/unemp_labels_test.csv\")"
   ]
  },
  {
   "cell_type": "code",
   "execution_count": 24,
   "metadata": {},
   "outputs": [
    {
     "data": {
      "text/plain": [
       "LinearRegression(copy_X=True, fit_intercept=True, n_jobs=None, normalize=False)"
      ]
     },
     "execution_count": 24,
     "metadata": {},
     "output_type": "execute_result"
    }
   ],
   "source": [
    "from sklearn.linear_model import LinearRegression\n",
    "\n",
    "linreg = LinearRegression()\n",
    "linreg.fit(inputs_train, labels_train)"
   ]
  },
  {
   "cell_type": "code",
   "execution_count": 25,
   "metadata": {},
   "outputs": [
    {
     "name": "stdout",
     "output_type": "stream",
     "text": [
      "1.9314224743867544e-05\n",
      "actual: 0.495575221238938\n",
      "predicted: 0.49961219735160967\n"
     ]
    }
   ],
   "source": [
    "pred = linreg.predict(inputs_test)\n",
    "mse = metrics.mean_squared_error(pred, labels_test)\n",
    "print(mse)\n",
    "print(\"actual: \" + str(labels_test.iloc[11,1]))\n",
    "print(\"predicted: \" + str(pred[11][1]))"
   ]
  },
  {
   "cell_type": "code",
   "execution_count": 26,
   "metadata": {},
   "outputs": [
    {
     "data": {
      "text/plain": [
       "MLPRegressor(activation='relu', alpha=0.0001, batch_size='auto', beta_1=0.9,\n",
       "             beta_2=0.999, early_stopping=False, epsilon=1e-08,\n",
       "             hidden_layer_sizes=(100,), learning_rate='constant',\n",
       "             learning_rate_init=0.001, max_fun=15000, max_iter=200,\n",
       "             momentum=0.9, n_iter_no_change=10, nesterovs_momentum=True,\n",
       "             power_t=0.5, random_state=None, shuffle=True, solver='adam',\n",
       "             tol=0.0001, validation_fraction=0.1, verbose=False,\n",
       "             warm_start=False)"
      ]
     },
     "execution_count": 26,
     "metadata": {},
     "output_type": "execute_result"
    }
   ],
   "source": [
    "from sklearn.neural_network import MLPRegressor\n",
    "\n",
    "predictor = MLPRegressor()\n",
    "predictor.fit(inputs_train, labels_train)"
   ]
  },
  {
   "cell_type": "code",
   "execution_count": 27,
   "metadata": {},
   "outputs": [
    {
     "name": "stdout",
     "output_type": "stream",
     "text": [
      "24111.322479610913\n"
     ]
    }
   ],
   "source": [
    "pred = predictor.predict(inputs_test)\n",
    "mse = metrics.mean_squared_error(pred, labels_test)\n",
    "print(mse)"
   ]
  },
  {
   "cell_type": "code",
   "execution_count": 28,
   "metadata": {},
   "outputs": [
    {
     "name": "stdout",
     "output_type": "stream",
     "text": [
      "actual: 0.495575221238938\n",
      "predicted: -13.330530908429111\n"
     ]
    }
   ],
   "source": [
    "print(\"actual: \" + str(labels_test.iloc[11,1]))\n",
    "print(\"predicted: \" + str(pred[11][1]))"
   ]
  }
 ],
 "metadata": {
  "kernelspec": {
   "display_name": "Python 3.7.6",
   "language": "python",
   "name": "python3"
  },
  "language_info": {
   "codemirror_mode": {
    "name": "ipython",
    "version": 3
   },
   "file_extension": ".py",
   "mimetype": "text/x-python",
   "name": "python",
   "nbconvert_exporter": "python",
   "pygments_lexer": "ipython3",
   "version": "3.7.6"
  },
  "orig_nbformat": 4,
  "vscode": {
   "interpreter": {
    "hash": "40d3a090f54c6569ab1632332b64b2c03c39dcf918b08424e98f38b5ae0af88f"
   }
  }
 },
 "nbformat": 4,
 "nbformat_minor": 2
}
